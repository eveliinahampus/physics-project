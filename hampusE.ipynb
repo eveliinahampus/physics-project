{
 "cells": [
  {
   "cell_type": "markdown",
   "metadata": {},
   "source": [
    "# Final Project for Applied Physics in Programming\n",
    "By: Eveliina Hampus, DIN22SP"
   ]
  },
  {
   "cell_type": "markdown",
   "metadata": {},
   "source": []
  },
  {
   "cell_type": "markdown",
   "metadata": {},
   "source": [
    "1. Import necessary libraries. \n",
    "\n",
    "Remember to install libraries with %pip install or properly via CLI with pip install.\n",
    "Notice that Oceanborn is depentant from Matplotlib."
   ]
  },
  {
   "cell_type": "code",
   "execution_count": 3,
   "metadata": {},
   "outputs": [],
   "source": [
    "import numpy as np # For calculations\n",
    "import matplotlib.pyplot as plt # For basic plotting\n",
    "import pandas as pd # For data manipulation\n",
    "import sympy as sm # For symbolic calculations\n",
    "import scipy as sc # For scientific processing\n",
    "import matplotlib as mpl # To support oceanborn libary\n",
    "import seaborn as sns # For more informative plots, requires matplotlib to be imported first\n",
    "from scipy.signal import butter,filtfilt # For filtering\n",
    "from math import radians, cos, sin, asin, sqrt #\n",
    "from sympy.abc import x #"
   ]
  }
 ],
 "metadata": {
  "kernelspec": {
   "display_name": "Python 3",
   "language": "python",
   "name": "python3"
  },
  "language_info": {
   "codemirror_mode": {
    "name": "ipython",
    "version": 3
   },
   "file_extension": ".py",
   "mimetype": "text/x-python",
   "name": "python",
   "nbconvert_exporter": "python",
   "pygments_lexer": "ipython3",
   "version": "3.12.1"
  }
 },
 "nbformat": 4,
 "nbformat_minor": 2
}
