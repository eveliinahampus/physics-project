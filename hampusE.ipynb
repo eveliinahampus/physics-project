{
 "cells": [
  {
   "cell_type": "markdown",
   "metadata": {},
   "source": [
    "# Final Project for Applied Physics in Programming\n",
    "By: Eveliina Hampus, DIN22SP"
   ]
  },
  {
   "cell_type": "markdown",
   "metadata": {},
   "source": []
  },
  {
   "cell_type": "markdown",
   "metadata": {},
   "source": [
    "1. Import necessary libraries. "
   ]
  },
  {
   "cell_type": "code",
   "execution_count": null,
   "metadata": {},
   "outputs": [],
   "source": [
    "import numpy as np # For calculations\n",
    "import matplotlib.pyplot as plt # For plotting\n",
    "import sympy as sm # For symbolic calculations\n",
    "import scipy as sc # For scientific processing\n",
    "from scipy.signal import butter,filtfilt\n",
    "from math import radians, cos, sin, asin, sqrt\n",
    "from sympy.abc import x"
   ]
  }
 ],
 "metadata": {
  "kernelspec": {
   "display_name": "Python 3",
   "language": "python",
   "name": "python3"
  },
  "language_info": {
   "name": "python",
   "version": "3.12.1"
  }
 },
 "nbformat": 4,
 "nbformat_minor": 2
}
